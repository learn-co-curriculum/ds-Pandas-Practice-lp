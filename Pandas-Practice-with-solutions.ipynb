{
 "cells": [
  {
   "cell_type": "markdown",
   "metadata": {},
   "source": [
    "## Pandas Practice\n",
    "\n",
    "### Introduction <a id=\"intro\"></a>\n",
    "In this notebook you'll get further practice and review with using conditionals, functions and the pandas package. All of these are common skills in a data science workflow."
   ]
  },
  {
   "cell_type": "code",
   "execution_count": 1,
   "metadata": {},
   "outputs": [],
   "source": [
    "import pandas as pd"
   ]
  },
  {
   "cell_type": "code",
   "execution_count": 2,
   "metadata": {},
   "outputs": [
    {
     "name": "stdout",
     "output_type": "stream",
     "text": [
      "852\n"
     ]
    },
    {
     "data": {
      "text/html": [
       "<div>\n",
       "<style scoped>\n",
       "    .dataframe tbody tr th:only-of-type {\n",
       "        vertical-align: middle;\n",
       "    }\n",
       "\n",
       "    .dataframe tbody tr th {\n",
       "        vertical-align: top;\n",
       "    }\n",
       "\n",
       "    .dataframe thead th {\n",
       "        text-align: right;\n",
       "    }\n",
       "</style>\n",
       "<table border=\"1\" class=\"dataframe\">\n",
       "  <thead>\n",
       "    <tr style=\"text-align: right;\">\n",
       "      <th></th>\n",
       "      <th>Year</th>\n",
       "      <th>Datetime</th>\n",
       "      <th>Stage</th>\n",
       "      <th>Stadium</th>\n",
       "      <th>City</th>\n",
       "      <th>Home Team Name</th>\n",
       "      <th>Home Team Goals</th>\n",
       "      <th>Away Team Goals</th>\n",
       "      <th>Away Team Name</th>\n",
       "      <th>Win conditions</th>\n",
       "      <th>Attendance</th>\n",
       "      <th>Half-time Home Goals</th>\n",
       "      <th>Half-time Away Goals</th>\n",
       "      <th>Referee</th>\n",
       "      <th>Assistant 1</th>\n",
       "      <th>Assistant 2</th>\n",
       "      <th>RoundID</th>\n",
       "      <th>MatchID</th>\n",
       "      <th>Home Team Initials</th>\n",
       "      <th>Away Team Initials</th>\n",
       "    </tr>\n",
       "  </thead>\n",
       "  <tbody>\n",
       "    <tr>\n",
       "      <th>0</th>\n",
       "      <td>1930</td>\n",
       "      <td>13 Jul 1930 - 15:00</td>\n",
       "      <td>Group 1</td>\n",
       "      <td>Pocitos</td>\n",
       "      <td>Montevideo</td>\n",
       "      <td>France</td>\n",
       "      <td>4</td>\n",
       "      <td>1</td>\n",
       "      <td>Mexico</td>\n",
       "      <td></td>\n",
       "      <td>4444.0</td>\n",
       "      <td>3</td>\n",
       "      <td>0</td>\n",
       "      <td>LOMBARDI Domingo (URU)</td>\n",
       "      <td>CRISTOPHE Henry (BEL)</td>\n",
       "      <td>REGO Gilberto (BRA)</td>\n",
       "      <td>201</td>\n",
       "      <td>1096</td>\n",
       "      <td>FRA</td>\n",
       "      <td>MEX</td>\n",
       "    </tr>\n",
       "    <tr>\n",
       "      <th>1</th>\n",
       "      <td>1930</td>\n",
       "      <td>13 Jul 1930 - 15:00</td>\n",
       "      <td>Group 4</td>\n",
       "      <td>Parque Central</td>\n",
       "      <td>Montevideo</td>\n",
       "      <td>USA</td>\n",
       "      <td>3</td>\n",
       "      <td>0</td>\n",
       "      <td>Belgium</td>\n",
       "      <td></td>\n",
       "      <td>18346.0</td>\n",
       "      <td>2</td>\n",
       "      <td>0</td>\n",
       "      <td>MACIAS Jose (ARG)</td>\n",
       "      <td>MATEUCCI Francisco (URU)</td>\n",
       "      <td>WARNKEN Alberto (CHI)</td>\n",
       "      <td>201</td>\n",
       "      <td>1090</td>\n",
       "      <td>USA</td>\n",
       "      <td>BEL</td>\n",
       "    </tr>\n",
       "    <tr>\n",
       "      <th>2</th>\n",
       "      <td>1930</td>\n",
       "      <td>14 Jul 1930 - 12:45</td>\n",
       "      <td>Group 2</td>\n",
       "      <td>Parque Central</td>\n",
       "      <td>Montevideo</td>\n",
       "      <td>Yugoslavia</td>\n",
       "      <td>2</td>\n",
       "      <td>1</td>\n",
       "      <td>Brazil</td>\n",
       "      <td></td>\n",
       "      <td>24059.0</td>\n",
       "      <td>2</td>\n",
       "      <td>0</td>\n",
       "      <td>TEJADA Anibal (URU)</td>\n",
       "      <td>VALLARINO Ricardo (URU)</td>\n",
       "      <td>BALWAY Thomas (FRA)</td>\n",
       "      <td>201</td>\n",
       "      <td>1093</td>\n",
       "      <td>YUG</td>\n",
       "      <td>BRA</td>\n",
       "    </tr>\n",
       "    <tr>\n",
       "      <th>3</th>\n",
       "      <td>1930</td>\n",
       "      <td>14 Jul 1930 - 14:50</td>\n",
       "      <td>Group 3</td>\n",
       "      <td>Pocitos</td>\n",
       "      <td>Montevideo</td>\n",
       "      <td>Romania</td>\n",
       "      <td>3</td>\n",
       "      <td>1</td>\n",
       "      <td>Peru</td>\n",
       "      <td></td>\n",
       "      <td>2549.0</td>\n",
       "      <td>1</td>\n",
       "      <td>0</td>\n",
       "      <td>WARNKEN Alberto (CHI)</td>\n",
       "      <td>LANGENUS Jean (BEL)</td>\n",
       "      <td>MATEUCCI Francisco (URU)</td>\n",
       "      <td>201</td>\n",
       "      <td>1098</td>\n",
       "      <td>ROU</td>\n",
       "      <td>PER</td>\n",
       "    </tr>\n",
       "    <tr>\n",
       "      <th>4</th>\n",
       "      <td>1930</td>\n",
       "      <td>15 Jul 1930 - 16:00</td>\n",
       "      <td>Group 1</td>\n",
       "      <td>Parque Central</td>\n",
       "      <td>Montevideo</td>\n",
       "      <td>Argentina</td>\n",
       "      <td>1</td>\n",
       "      <td>0</td>\n",
       "      <td>France</td>\n",
       "      <td></td>\n",
       "      <td>23409.0</td>\n",
       "      <td>0</td>\n",
       "      <td>0</td>\n",
       "      <td>REGO Gilberto (BRA)</td>\n",
       "      <td>SAUCEDO Ulises (BOL)</td>\n",
       "      <td>RADULESCU Constantin (ROU)</td>\n",
       "      <td>201</td>\n",
       "      <td>1085</td>\n",
       "      <td>ARG</td>\n",
       "      <td>FRA</td>\n",
       "    </tr>\n",
       "  </tbody>\n",
       "</table>\n",
       "</div>"
      ],
      "text/plain": [
       "   Year              Datetime    Stage         Stadium         City  \\\n",
       "0  1930  13 Jul 1930 - 15:00   Group 1         Pocitos  Montevideo    \n",
       "1  1930  13 Jul 1930 - 15:00   Group 4  Parque Central  Montevideo    \n",
       "2  1930  14 Jul 1930 - 12:45   Group 2  Parque Central  Montevideo    \n",
       "3  1930  14 Jul 1930 - 14:50   Group 3         Pocitos  Montevideo    \n",
       "4  1930  15 Jul 1930 - 16:00   Group 1  Parque Central  Montevideo    \n",
       "\n",
       "  Home Team Name  Home Team Goals  Away Team Goals Away Team Name  \\\n",
       "0         France                4                1         Mexico   \n",
       "1            USA                3                0        Belgium   \n",
       "2     Yugoslavia                2                1         Brazil   \n",
       "3        Romania                3                1           Peru   \n",
       "4      Argentina                1                0         France   \n",
       "\n",
       "  Win conditions  Attendance  Half-time Home Goals  Half-time Away Goals  \\\n",
       "0                     4444.0                     3                     0   \n",
       "1                    18346.0                     2                     0   \n",
       "2                    24059.0                     2                     0   \n",
       "3                     2549.0                     1                     0   \n",
       "4                    23409.0                     0                     0   \n",
       "\n",
       "                  Referee               Assistant 1  \\\n",
       "0  LOMBARDI Domingo (URU)     CRISTOPHE Henry (BEL)   \n",
       "1       MACIAS Jose (ARG)  MATEUCCI Francisco (URU)   \n",
       "2     TEJADA Anibal (URU)   VALLARINO Ricardo (URU)   \n",
       "3   WARNKEN Alberto (CHI)       LANGENUS Jean (BEL)   \n",
       "4     REGO Gilberto (BRA)      SAUCEDO Ulises (BOL)   \n",
       "\n",
       "                  Assistant 2  RoundID  MatchID Home Team Initials  \\\n",
       "0         REGO Gilberto (BRA)      201     1096                FRA   \n",
       "1       WARNKEN Alberto (CHI)      201     1090                USA   \n",
       "2         BALWAY Thomas (FRA)      201     1093                YUG   \n",
       "3    MATEUCCI Francisco (URU)      201     1098                ROU   \n",
       "4  RADULESCU Constantin (ROU)      201     1085                ARG   \n",
       "\n",
       "  Away Team Initials  \n",
       "0                MEX  \n",
       "1                BEL  \n",
       "2                BRA  \n",
       "3                PER  \n",
       "4                FRA  "
      ]
     },
     "execution_count": 2,
     "metadata": {},
     "output_type": "execute_result"
    }
   ],
   "source": [
    "df = pd.read_csv('WorldCupMatches.csv')\n",
    "print(len(df))\n",
    "df.head()"
   ]
  },
  {
   "cell_type": "markdown",
   "metadata": {},
   "source": [
    "### Practice Questions <a id=\"practice\"></a>"
   ]
  },
  {
   "cell_type": "markdown",
   "metadata": {},
   "source": [
    "1. Subset the DataFrame to only non-null rows."
   ]
  },
  {
   "cell_type": "code",
   "execution_count": 3,
   "metadata": {},
   "outputs": [],
   "source": [
    "#Your code for question 1 goes here.\n",
    "df = df[~df.isnull()]"
   ]
  },
  {
   "cell_type": "markdown",
   "metadata": {},
   "source": [
    "2. How many of the matches were in Montevideo?  "
   ]
  },
  {
   "cell_type": "code",
   "execution_count": 4,
   "metadata": {},
   "outputs": [
    {
     "name": "stdout",
     "output_type": "stream",
     "text": [
      "0\n"
     ]
    }
   ],
   "source": [
    "#Your code for question 2 goes here.\n",
    "print(len(df[df.City==\"Montevideo\"]))"
   ]
  },
  {
   "cell_type": "markdown",
   "metadata": {},
   "source": [
    "2. b If you haven't already, investigate why this code returns zero:\n",
    "\n",
    "```python\n",
    "print(len(df[df.City==\"Montevideo\"]))\n",
    "```"
   ]
  },
  {
   "cell_type": "code",
   "execution_count": 5,
   "metadata": {},
   "outputs": [
    {
     "data": {
      "text/plain": [
       "'Montevideo '"
      ]
     },
     "execution_count": 5,
     "metadata": {},
     "output_type": "execute_result"
    }
   ],
   "source": [
    "df.City.iloc[0]"
   ]
  },
  {
   "cell_type": "markdown",
   "metadata": {},
   "source": [
    "3. How many matches did USA play in 2014?  \n",
    "\n",
    "Hint: they could have been home or away.  \n",
    "\n",
    "You can combine conditions like this:  \n",
    "df[(condition1) | (condition2)] #Returns rows where either condition is true  \n",
    "df[(condition1) & (condition2)] #Returns rows where both conditions are true  "
   ]
  },
  {
   "cell_type": "code",
   "execution_count": 6,
   "metadata": {},
   "outputs": [
    {
     "name": "stdout",
     "output_type": "stream",
     "text": [
      "5\n"
     ]
    },
    {
     "data": {
      "text/html": [
       "<div>\n",
       "<style scoped>\n",
       "    .dataframe tbody tr th:only-of-type {\n",
       "        vertical-align: middle;\n",
       "    }\n",
       "\n",
       "    .dataframe tbody tr th {\n",
       "        vertical-align: top;\n",
       "    }\n",
       "\n",
       "    .dataframe thead th {\n",
       "        text-align: right;\n",
       "    }\n",
       "</style>\n",
       "<table border=\"1\" class=\"dataframe\">\n",
       "  <thead>\n",
       "    <tr style=\"text-align: right;\">\n",
       "      <th></th>\n",
       "      <th>Year</th>\n",
       "      <th>Datetime</th>\n",
       "      <th>Stage</th>\n",
       "      <th>Stadium</th>\n",
       "      <th>City</th>\n",
       "      <th>Home Team Name</th>\n",
       "      <th>Home Team Goals</th>\n",
       "      <th>Away Team Goals</th>\n",
       "      <th>Away Team Name</th>\n",
       "      <th>Win conditions</th>\n",
       "      <th>Attendance</th>\n",
       "      <th>Half-time Home Goals</th>\n",
       "      <th>Half-time Away Goals</th>\n",
       "      <th>Referee</th>\n",
       "      <th>Assistant 1</th>\n",
       "      <th>Assistant 2</th>\n",
       "      <th>RoundID</th>\n",
       "      <th>MatchID</th>\n",
       "      <th>Home Team Initials</th>\n",
       "      <th>Away Team Initials</th>\n",
       "    </tr>\n",
       "  </thead>\n",
       "  <tbody>\n",
       "    <tr>\n",
       "      <th>785</th>\n",
       "      <td>2014</td>\n",
       "      <td>16 Jun 2014 - 19:00</td>\n",
       "      <td>Group G</td>\n",
       "      <td>Estadio das Dunas</td>\n",
       "      <td>Natal</td>\n",
       "      <td>Ghana</td>\n",
       "      <td>1</td>\n",
       "      <td>2</td>\n",
       "      <td>USA</td>\n",
       "      <td></td>\n",
       "      <td>39760.0</td>\n",
       "      <td>0</td>\n",
       "      <td>1</td>\n",
       "      <td>ERIKSSON Jonas (SWE)</td>\n",
       "      <td>KLASENIUS Mathias (SWE)</td>\n",
       "      <td>WARNMARK Daniel (SWE)</td>\n",
       "      <td>255931</td>\n",
       "      <td>300186512</td>\n",
       "      <td>GHA</td>\n",
       "      <td>USA</td>\n",
       "    </tr>\n",
       "    <tr>\n",
       "      <th>803</th>\n",
       "      <td>2014</td>\n",
       "      <td>22 Jun 2014 - 18:00</td>\n",
       "      <td>Group G</td>\n",
       "      <td>Arena Amazonia</td>\n",
       "      <td>Manaus</td>\n",
       "      <td>USA</td>\n",
       "      <td>2</td>\n",
       "      <td>2</td>\n",
       "      <td>Portugal</td>\n",
       "      <td></td>\n",
       "      <td>40123.0</td>\n",
       "      <td>0</td>\n",
       "      <td>1</td>\n",
       "      <td>PITANA Nestor (ARG)</td>\n",
       "      <td>MAIDANA Hernan (ARG)</td>\n",
       "      <td>BELATTI Juan Pablo (ARG)</td>\n",
       "      <td>255931</td>\n",
       "      <td>300186483</td>\n",
       "      <td>USA</td>\n",
       "      <td>POR</td>\n",
       "    </tr>\n",
       "    <tr>\n",
       "      <th>816</th>\n",
       "      <td>2014</td>\n",
       "      <td>26 Jun 2014 - 13:00</td>\n",
       "      <td>Group G</td>\n",
       "      <td>Arena Pernambuco</td>\n",
       "      <td>Recife</td>\n",
       "      <td>USA</td>\n",
       "      <td>0</td>\n",
       "      <td>1</td>\n",
       "      <td>Germany</td>\n",
       "      <td></td>\n",
       "      <td>41876.0</td>\n",
       "      <td>0</td>\n",
       "      <td>0</td>\n",
       "      <td>Ravshan IRMATOV (UZB)</td>\n",
       "      <td>RASULOV Abduxamidullo (UZB)</td>\n",
       "      <td>KOCHKAROV Bakhadyr (KGZ)</td>\n",
       "      <td>255931</td>\n",
       "      <td>300186469</td>\n",
       "      <td>USA</td>\n",
       "      <td>GER</td>\n",
       "    </tr>\n",
       "    <tr>\n",
       "      <th>835</th>\n",
       "      <td>2014</td>\n",
       "      <td>01 Jul 2014 - 17:00</td>\n",
       "      <td>Round of 16</td>\n",
       "      <td>Arena Fonte Nova</td>\n",
       "      <td>Salvador</td>\n",
       "      <td>Belgium</td>\n",
       "      <td>2</td>\n",
       "      <td>1</td>\n",
       "      <td>USA</td>\n",
       "      <td>Belgium win after extra time</td>\n",
       "      <td>51227.0</td>\n",
       "      <td>0</td>\n",
       "      <td>0</td>\n",
       "      <td>HAIMOUDI Djamel (ALG)</td>\n",
       "      <td>ACHIK Redouane (MAR)</td>\n",
       "      <td>ETCHIALI Abdelhak (ALG)</td>\n",
       "      <td>255951</td>\n",
       "      <td>300186497</td>\n",
       "      <td>BEL</td>\n",
       "      <td>USA</td>\n",
       "    </tr>\n",
       "    <tr>\n",
       "      <th>843</th>\n",
       "      <td>2014</td>\n",
       "      <td>01 Jul 2014 - 17:00</td>\n",
       "      <td>Round of 16</td>\n",
       "      <td>Arena Fonte Nova</td>\n",
       "      <td>Salvador</td>\n",
       "      <td>Belgium</td>\n",
       "      <td>2</td>\n",
       "      <td>1</td>\n",
       "      <td>USA</td>\n",
       "      <td>Belgium win after extra time</td>\n",
       "      <td>51227.0</td>\n",
       "      <td>0</td>\n",
       "      <td>0</td>\n",
       "      <td>HAIMOUDI Djamel (ALG)</td>\n",
       "      <td>ACHIK Redouane (MAR)</td>\n",
       "      <td>ETCHIALI Abdelhak (ALG)</td>\n",
       "      <td>255951</td>\n",
       "      <td>300186497</td>\n",
       "      <td>BEL</td>\n",
       "      <td>USA</td>\n",
       "    </tr>\n",
       "  </tbody>\n",
       "</table>\n",
       "</div>"
      ],
      "text/plain": [
       "     Year              Datetime        Stage            Stadium       City  \\\n",
       "785  2014  16 Jun 2014 - 19:00       Group G  Estadio das Dunas     Natal    \n",
       "803  2014  22 Jun 2014 - 18:00       Group G     Arena Amazonia    Manaus    \n",
       "816  2014  26 Jun 2014 - 13:00       Group G   Arena Pernambuco    Recife    \n",
       "835  2014  01 Jul 2014 - 17:00   Round of 16   Arena Fonte Nova  Salvador    \n",
       "843  2014  01 Jul 2014 - 17:00   Round of 16   Arena Fonte Nova  Salvador    \n",
       "\n",
       "    Home Team Name  Home Team Goals  Away Team Goals Away Team Name  \\\n",
       "785          Ghana                1                2            USA   \n",
       "803            USA                2                2       Portugal   \n",
       "816            USA                0                1        Germany   \n",
       "835        Belgium                2                1            USA   \n",
       "843        Belgium                2                1            USA   \n",
       "\n",
       "                    Win conditions  Attendance  Half-time Home Goals  \\\n",
       "785                                    39760.0                     0   \n",
       "803                                    40123.0                     0   \n",
       "816                                    41876.0                     0   \n",
       "835  Belgium win after extra time      51227.0                     0   \n",
       "843  Belgium win after extra time      51227.0                     0   \n",
       "\n",
       "     Half-time Away Goals                Referee                  Assistant 1  \\\n",
       "785                     1   ERIKSSON Jonas (SWE)      KLASENIUS Mathias (SWE)   \n",
       "803                     1    PITANA Nestor (ARG)         MAIDANA Hernan (ARG)   \n",
       "816                     0  Ravshan IRMATOV (UZB)  RASULOV Abduxamidullo (UZB)   \n",
       "835                     0  HAIMOUDI Djamel (ALG)         ACHIK Redouane (MAR)   \n",
       "843                     0  HAIMOUDI Djamel (ALG)         ACHIK Redouane (MAR)   \n",
       "\n",
       "                  Assistant 2  RoundID    MatchID Home Team Initials  \\\n",
       "785     WARNMARK Daniel (SWE)   255931  300186512                GHA   \n",
       "803  BELATTI Juan Pablo (ARG)   255931  300186483                USA   \n",
       "816  KOCHKAROV Bakhadyr (KGZ)   255931  300186469                USA   \n",
       "835   ETCHIALI Abdelhak (ALG)   255951  300186497                BEL   \n",
       "843   ETCHIALI Abdelhak (ALG)   255951  300186497                BEL   \n",
       "\n",
       "    Away Team Initials  \n",
       "785                USA  \n",
       "803                POR  \n",
       "816                GER  \n",
       "835                USA  \n",
       "843                USA  "
      ]
     },
     "execution_count": 6,
     "metadata": {},
     "output_type": "execute_result"
    }
   ],
   "source": [
    "#Your code for question 3 goes here.\n",
    "temp = df[(\n",
    "            (df['Home Team Name'] == 'USA')\n",
    "             | (df['Away Team Name'] == 'USA')\n",
    "          )\n",
    "          & (df['Year'] == 2014)]\n",
    "print(len(temp))\n",
    "temp.head()"
   ]
  },
  {
   "cell_type": "markdown",
   "metadata": {},
   "source": [
    "4. How many teams played in 1986?"
   ]
  },
  {
   "cell_type": "code",
   "execution_count": 7,
   "metadata": {},
   "outputs": [
    {
     "name": "stdout",
     "output_type": "stream",
     "text": [
      "24\n"
     ]
    },
    {
     "data": {
      "text/plain": [
       "{'Algeria',\n",
       " 'Argentina',\n",
       " 'Belgium',\n",
       " 'Brazil',\n",
       " 'Bulgaria',\n",
       " 'Canada',\n",
       " 'Denmark',\n",
       " 'England',\n",
       " 'France',\n",
       " 'Germany FR',\n",
       " 'Hungary',\n",
       " 'Iraq',\n",
       " 'Italy',\n",
       " 'Korea Republic',\n",
       " 'Mexico',\n",
       " 'Morocco',\n",
       " 'Northern Ireland',\n",
       " 'Paraguay',\n",
       " 'Poland',\n",
       " 'Portugal',\n",
       " 'Scotland',\n",
       " 'Soviet Union',\n",
       " 'Spain',\n",
       " 'Uruguay'}"
      ]
     },
     "execution_count": 7,
     "metadata": {},
     "output_type": "execute_result"
    }
   ],
   "source": [
    "#Your code for question 4 goes here.\n",
    "home_teams = df[df.Year == 1986]['Home Team Name'].unique()\n",
    "away_teams = df[df.Year == 1986]['Away Team Name'].unique()\n",
    "teams = list(home_teams) + list(away_teams)\n",
    "print(len(set(teams)))\n",
    "set(teams)"
   ]
  },
  {
   "cell_type": "markdown",
   "metadata": {},
   "source": [
    "5. How many matches were there with 5 or more total goals?"
   ]
  },
  {
   "cell_type": "code",
   "execution_count": 8,
   "metadata": {},
   "outputs": [
    {
     "name": "stdout",
     "output_type": "stream",
     "text": [
      "147\n"
     ]
    }
   ],
   "source": [
    "#Your code for question 5 goes here.\n",
    "df['Total_Goals'] = df['Home Team Goals'] + df['Away Team Goals']\n",
    "print(len(df[df['Total_Goals'] >= 5]))"
   ]
  },
  {
   "cell_type": "markdown",
   "metadata": {},
   "source": [
    "6. Come up with and answer, two other questions you could answer by filtering or subsetting. this DataFrame."
   ]
  },
  {
   "cell_type": "code",
   "execution_count": 9,
   "metadata": {},
   "outputs": [],
   "source": [
    "#6a Question:\n",
    "\n",
    "#6a Solution (with code):"
   ]
  },
  {
   "cell_type": "code",
   "execution_count": 10,
   "metadata": {},
   "outputs": [],
   "source": [
    "#6b Question:\n",
    "\n",
    "#6b Solution (with code):"
   ]
  }
 ],
 "metadata": {
  "kernelspec": {
   "display_name": "Python 3",
   "language": "python",
   "name": "python3"
  },
  "language_info": {
   "codemirror_mode": {
    "name": "ipython",
    "version": 3
   },
   "file_extension": ".py",
   "mimetype": "text/x-python",
   "name": "python",
   "nbconvert_exporter": "python",
   "pygments_lexer": "ipython3",
   "version": "3.6.5"
  }
 },
 "nbformat": 4,
 "nbformat_minor": 2
}
